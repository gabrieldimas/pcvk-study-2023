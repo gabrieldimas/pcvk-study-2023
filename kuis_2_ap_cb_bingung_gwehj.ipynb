{
  "nbformat": 4,
  "nbformat_minor": 0,
  "metadata": {
    "colab": {
      "provenance": [],
      "gpuType": "T4",
      "authorship_tag": "ABX9TyNTVKcpS/ZP3kXYYS0JQRMO",
      "include_colab_link": true
    },
    "kernelspec": {
      "name": "python3",
      "display_name": "Python 3"
    },
    "language_info": {
      "name": "python"
    },
    "accelerator": "GPU"
  },
  "cells": [
    {
      "cell_type": "markdown",
      "metadata": {
        "id": "view-in-github",
        "colab_type": "text"
      },
      "source": [
        "<a href=\"https://colab.research.google.com/github/gabrieldimas/pcvk-study-2023/blob/main/kuis_2_ap_cb_bingung_gwehj.ipynb\" target=\"_parent\"><img src=\"https://colab.research.google.com/assets/colab-badge.svg\" alt=\"Open In Colab\"/></a>"
      ]
    },
    {
      "cell_type": "code",
      "execution_count": 17,
      "metadata": {
        "colab": {
          "base_uri": "https://localhost:8080/"
        },
        "id": "lTL66rHb8Dnw",
        "outputId": "a38c9908-fcb3-405d-de76-ef01fb084bfa"
      },
      "outputs": [
        {
          "output_type": "stream",
          "name": "stdout",
          "text": [
            "Drive already mounted at /content/drive; to attempt to forcibly remount, call drive.mount(\"/content/drive\", force_remount=True).\n"
          ]
        }
      ],
      "source": [
        "from google.colab import drive\n",
        "drive.mount('/content/drive')"
      ]
    },
    {
      "cell_type": "markdown",
      "source": [
        "Import Library"
      ],
      "metadata": {
        "id": "5zNjsqH-_A1Z"
      }
    },
    {
      "cell_type": "code",
      "source": [
        "# Import Library\n",
        "import cv2\n",
        "import numpy as np\n",
        "from matplotlib import pyplot as plt\n",
        "from google.colab.patches import cv2_imshow\n",
        "import os"
      ],
      "metadata": {
        "id": "eE9YCDHx_ABv"
      },
      "execution_count": 18,
      "outputs": []
    },
    {
      "cell_type": "markdown",
      "source": [
        "Load Model"
      ],
      "metadata": {
        "id": "joJDuUTf8-cM"
      }
    },
    {
      "cell_type": "code",
      "source": [
        "# Direktori tempat gambar-gambar berada\n",
        "direct_data1 = '/content/drive/MyDrive/Kuliah/PCVK/dataset/ktm/3A_2141720223_1 - Rizky Angkata.jpeg'\n",
        "direct_data2 = '/content/drive/MyDrive/Kuliah/PCVK/dataset/ktm/3A_2141720223_2 - Rizky Angkata.jpeg'\n",
        "direct_data3 = '/content/drive/MyDrive/Kuliah/PCVK/dataset/ktm/3A_2141720223_3 - Rizky Angkata.jpeg'\n",
        "direct_data4 = '/content/drive/MyDrive/Kuliah/PCVK/dataset/ktm/3A_2141720223_4 - Rizky Angkata.jpeg'\n",
        "direct_data5 = '/content/drive/MyDrive/Kuliah/PCVK/dataset/ktm/3A_2141720223_5 - Rizky Angkata.jpeg'\n",
        "direct_data6 = '/content/drive/MyDrive/Kuliah/PCVK/dataset/ktm/3D_2141720104_1 - BRILLIYAND NOVAL HERDANA PUTRA.jpeg'\n",
        "direct_data7 = '/content/drive/MyDrive/Kuliah/PCVK/dataset/ktm/3D_2141720104_2 - BRILLIYAND NOVAL HERDANA PUTRA.jpeg'\n",
        "direct_data8 = '/content/drive/MyDrive/Kuliah/PCVK/dataset/ktm/3D_2141720104_3 - BRILLIYAND NOVAL HERDANA PUTRA.jpeg'\n",
        "direct_data9 = '/content/drive/MyDrive/Kuliah/PCVK/dataset/ktm/3D_2141720104_4 - BRILLIYAND NOVAL HERDANA PUTRA.jpeg'\n",
        "direct_data10 = '/content/drive/MyDrive/Kuliah/PCVK/dataset/ktm/3D_2141720104_5 - BRILLIYAND NOVAL HERDANA PUTRA.jpeg'\n",
        "direct_data11 = '/content/drive/MyDrive/Kuliah/PCVK/dataset/ktm/TI-3B_2141720126_1 - IQBAL TAWAKAL.jpg'\n",
        "direct_data12 = '/content/drive/MyDrive/Kuliah/PCVK/dataset/ktm/TI-3B_2141720126_2 - IQBAL TAWAKAL.jpg'\n",
        "direct_data13 = '/content/drive/MyDrive/Kuliah/PCVK/dataset/ktm/TI-3B_2141720126_3 - IQBAL TAWAKAL.jpg'\n",
        "direct_data14 = '/content/drive/MyDrive/Kuliah/PCVK/dataset/ktm/TI-3B_2141720126_4 - IQBAL TAWAKAL.jpg'\n",
        "direct_data15 = '/content/drive/MyDrive/Kuliah/PCVK/dataset/ktm/TI-3B_2141720126_5 - IQBAL TAWAKAL.jpg'\n",
        "\n",
        "# List Direktori\n",
        "directories = [direct_data1, direct_data2, direct_data3, direct_data4]\n",
        "\n",
        "# Load HaarCascade untuk deteksi\n",
        "cascade_wajah = cv2.CascadeClassifier('/content/drive/MyDrive/Kuliah/PCVK/dataset/haarcascade_frontalface_alt.xml')"
      ],
      "metadata": {
        "id": "WBe4aamP84VL"
      },
      "execution_count": 22,
      "outputs": []
    },
    {
      "cell_type": "markdown",
      "source": [
        "Face Detection"
      ],
      "metadata": {
        "id": "621wEgMDBaHK"
      }
    },
    {
      "cell_type": "code",
      "source": [
        "# Menggunakan os.listdir untuk mengambil daftar file dalam direktori\n",
        "for direct_data in directories:\n",
        "    if os.path.isdir(direct_data):  # Check if it's a directory\n",
        "        files = os.listdir(direct_data)\n",
        "\n",
        "        # Loop melalui semua gambar dalam direktori\n",
        "        for i, img_file in enumerate(files, start=1):\n",
        "            img_path = os.path.join(direct_data, img_file)\n",
        "            img = cv2.imread(img_path)\n",
        "\n",
        "        # PREPROCESSING\n",
        "        # (1) Resize the image\n",
        "        img = cv2.resize(img, (400, 300))\n",
        "\n",
        "        # (2) Convert to Grayscale\n",
        "        gray_img = cv2.cvtColor(img, cv2.COLOR_BGR2GRAY)\n",
        "\n",
        "        # (3) Histogram Equalization\n",
        "        equalized_img = cv2.equalizeHist(gray_img)\n",
        "\n",
        "        # (4) Lokalisasi (Face Detection)\n",
        "        faces = cascade_wajah.detectMultiScale(img, scaleFactor=1.1, minNeighbors=5, minSize=(30, 30))\n",
        "\n",
        "        # SEGEMENTASI DAN RECOGNIZATION\n",
        "        for (x, y, w, h) in faces:\n",
        "            # (5) Segmentasi (Crop Wajah)\n",
        "            face_segment = img[y:y+h, x:x+w]\n",
        "\n",
        "            # Tampilkan hasil segmentasi dan pengenalan wajah\n",
        "            plt.figure(figsize=(25, 6))\n",
        "\n",
        "            # Gambar asli\n",
        "            plt.subplot(151)\n",
        "            plt.imshow(cv2.cvtColor(img, cv2.COLOR_BGR2RGB))\n",
        "            plt.title('Original Image')\n",
        "            plt.axis('off')\n",
        "\n",
        "            # Grayscale image (PREPROCESSING)\n",
        "            plt.subplot(152)\n",
        "            plt.imshow(gray_img, cmap='gray')\n",
        "            plt.title('Grayscale')\n",
        "            plt.axis('off')\n",
        "\n",
        "            # Equalized Image (PREPROCESSING)\n",
        "            plt.subplot(153)\n",
        "            plt.imshow(equalized_img, cmap='gray')\n",
        "            plt.title('Histogram Equalization')\n",
        "            plt.axis('off')\n",
        "\n",
        "            # Gambar Segmentasi Wajah\n",
        "            plt.subplot(154)\n",
        "            plt.imshow(cv2.cvtColor(face_segment, cv2.COLOR_BGR2RGB))\n",
        "            plt.title('Segmented Face')\n",
        "            plt.axis('off')\n",
        "\n",
        "            # Gambar dengan kotak di sekitar wajah (Lokalisasi - Face Detection)\n",
        "            img_with_boxes = img.copy()\n",
        "            cv2.rectangle(img_with_boxes, (x, y), (x+w, y+h), (0, 255, 0), 2)\n",
        "            plt.subplot(155)\n",
        "            plt.imshow(cv2.cvtColor(img_with_boxes, cv2.COLOR_BGR2RGB))\n",
        "            plt.title('Face Detection')\n",
        "            plt.axis('off')\n",
        "\n",
        "            plt.show()"
      ],
      "metadata": {
        "id": "_b-TvEyt9Awa"
      },
      "execution_count": 26,
      "outputs": []
    },
    {
      "cell_type": "markdown",
      "source": [
        "Object Character Detection"
      ],
      "metadata": {
        "id": "6iIUuuf_ES99"
      }
    },
    {
      "cell_type": "code",
      "source": [
        "import cv2\n",
        "import matplotlib.pyplot as plt\n",
        "import numpy as np\n",
        "\n",
        "# Daftar path citra\n",
        "image_paths = [\n",
        "'/content/drive/MyDrive/Kuliah/PCVK/dataset/ktm/3A_2141720223_1 - Rizky Angkata.jpeg',\n",
        "'/content/drive/MyDrive/Kuliah/PCVK/dataset/ktm/3A_2141720223_2 - Rizky Angkata.jpeg',\n",
        "'/content/drive/MyDrive/Kuliah/PCVK/dataset/ktm/3A_2141720223_3 - Rizky Angkata.jpeg',\n",
        "'/content/drive/MyDrive/Kuliah/PCVK/dataset/ktm/3A_2141720223_4 - Rizky Angkata.jpeg',\n",
        "'/content/drive/MyDrive/Kuliah/PCVK/dataset/ktm/3A_2141720223_5 - Rizky Angkata.jpeg',\n",
        "'/content/drive/MyDrive/Kuliah/PCVK/dataset/ktm/3D_2141720104_1 - BRILLIYAND NOVAL HERDANA PUTRA.jpeg',\n",
        "'/content/drive/MyDrive/Kuliah/PCVK/dataset/ktm/3D_2141720104_2 - BRILLIYAND NOVAL HERDANA PUTRA.jpeg',\n",
        "'/content/drive/MyDrive/Kuliah/PCVK/dataset/ktm/3D_2141720104_3 - BRILLIYAND NOVAL HERDANA PUTRA.jpeg',\n",
        "'/content/drive/MyDrive/Kuliah/PCVK/dataset/ktm/3D_2141720104_4 - BRILLIYAND NOVAL HERDANA PUTRA.jpeg',\n",
        "'/content/drive/MyDrive/Kuliah/PCVK/dataset/ktm/3D_2141720104_5 - BRILLIYAND NOVAL HERDANA PUTRA.jpeg',\n",
        "'/content/drive/MyDrive/Kuliah/PCVK/dataset/ktm/TI-3B_2141720126_1 - IQBAL TAWAKAL.jpg',\n",
        "'/content/drive/MyDrive/Kuliah/PCVK/dataset/ktm/TI-3B_2141720126_2 - IQBAL TAWAKAL.jpg',\n",
        "'/content/drive/MyDrive/Kuliah/PCVK/dataset/ktm/TI-3B_2141720126_3 - IQBAL TAWAKAL.jpg',\n",
        "'/content/drive/MyDrive/Kuliah/PCVK/dataset/ktm/TI-3B_2141720126_4 - IQBAL TAWAKAL.jpg',\n",
        "'/content/drive/MyDrive/Kuliah/PCVK/dataset/ktm/TI-3B_2141720126_5 - IQBAL TAWAKAL.jpg',\n",
        "]\n",
        "\n",
        "def process_image(image_path):\n",
        "    # Membaca citra KTP dari path tertentu\n",
        "    ktp = cv2.imread(image_path)\n",
        "\n",
        "    # Menambahkan border putih sebesar 20 piksel di sekeliling citra KTP\n",
        "    ktp = cv2.copyMakeBorder(\n",
        "        src=ktp,\n",
        "        top=20,\n",
        "        bottom=20,\n",
        "        left=20,\n",
        "        right=20,\n",
        "        borderType=cv2.BORDER_CONSTANT,\n",
        "        value=(255, 255, 255)  # Nilai warna putih dalam format RGB\n",
        "    )\n",
        "\n",
        "    # Variabel-variabel untuk menentukan koordinat crop\n",
        "    if \"rizkyangkata1.jpg\" in image_path:\n",
        "        crop_coords = (330, 380, 600, 900)\n",
        "    elif \"rizkyangkata2.jpg\" in image_path:\n",
        "        crop_coords = (680, 780, 1100, 1600)\n",
        "    elif \"rizkyangkata3.jpg\" in image_path:\n",
        "        crop_coords = (750, 810, 1100, 1600)\n",
        "    elif \"brilliyand1\" in image_path:\n",
        "        crop_coords = (800, 950, 1600, 2300)\n",
        "    elif \"brilliyand2\" in image_path:\n",
        "        crop_coords = (850, 1000, 1750, 2370)\n",
        "    elif \"brilliyand3\" in image_path:\n",
        "        crop_coords = (850, 1000, 1700, 2350)\n",
        "    elif \"iqbal1\" in image_path:\n",
        "        crop_coords = (1050, 1200, 1300, 2100)\n",
        "    elif \"iqbal2\" in image_path:\n",
        "        crop_coords = (1000, 1120, 1400, 2100)\n",
        "    elif \"iqbal3\" in image_path:\n",
        "        crop_coords = (1180, 1300, 1400, 2200)\n",
        "    else:\n",
        "        # Tambahkan kondisi lain jika diperlukan\n",
        "        crop_coords = (800, 950, 1600, 2300)\n",
        "\n",
        "    # Melakukan operasi cropping\n",
        "    ktp_crop = ktp[crop_coords[0]:crop_coords[1], crop_coords[2]:crop_coords[3]].copy()\n",
        "\n",
        "    # Konversi citra KTP ke dalam citra keabuan (grayscale)\n",
        "    ktp_gray = cv2.cvtColor(ktp_crop, cv2.COLOR_BGR2GRAY)\n",
        "\n",
        "    # Melakukan operasi Gaussian Blur pada citra keabuan KTP\n",
        "    ktp_blur = cv2.GaussianBlur(\n",
        "        src=ktp_gray,\n",
        "        ksize=(5, 5),  # Ukuran kernel Gaussian (5x5)\n",
        "        sigmaX=0,\n",
        "        sigmaY=0\n",
        "    )\n",
        "\n",
        "    output = ktp.copy()  # Membuat salinan citra KTP utuh\n",
        "    clahe = cv2.createCLAHE(clipLimit=1.0, tileGridSize=(5, 5))  # Membuat objek CLAHE\n",
        "    gray = clahe.apply(ktp_blur)  # Mengaplikasikan CLAHE pada citra hasil crop\n",
        "\n",
        "    # Melakukan thresholding pada citra untuk menghasilkan citra biner\n",
        "    ret, bw = cv2.threshold(gray.copy(), 100, 255, cv2.THRESH_BINARY + cv2.THRESH_OTSU)\n",
        "\n",
        "    # Memperjelas hasil thresholding menggunakan operasi morfologi closing\n",
        "    kernel = np.ones((3, 3), np.uint8)\n",
        "    closing = cv2.morphologyEx(bw, cv2.MORPH_CLOSE, kernel, iterations=1)\n",
        "    dilate = closing.copy()  # Salinan hasil closing\n",
        "\n",
        "    # Ekstraksi kontur dari citra hasil operasi closing\n",
        "    contours, hierarchy = cv2.findContours(dilate.copy(), cv2.RETR_TREE, cv2.CHAIN_APPROX_NONE)\n",
        "\n",
        "    # Looping kontur untuk mendeteksi objek berdasarkan kriteria ukuran dan rasio aspek\n",
        "    for cnt in contours:\n",
        "        x, y, w, h = cv2.boundingRect(cnt)\n",
        "        ras = format(w / h, '.2f')\n",
        "\n",
        "        # Deteksi berdasarkan ukuran dan rasio aspek tertentu, lalu membuat bounding box pada objek yang sesuai\n",
        "        if h >= 40 and w >= 10 and float(ras) <= 1:\n",
        "            cv2.rectangle(ktp_crop, (x, y), (x + w, y + h), (0, 0, 255), thickness=2)\n",
        "        elif h >= 8 and w >= 8 and float(ras) <= 10:\n",
        "            cv2.rectangle(ktp_crop, (x, y), (x + w, y + h), (0, 0, 255), thickness=2)\n",
        "        elif h >= 10 and w >= 7 and float(ras) <= 8:\n",
        "            cv2.rectangle(ktp_crop, (x, y), (x + w, y + h), (0, 0, 255), thickness=2)\n",
        "\n",
        "    return ktp, dilate, ktp_crop\n",
        "\n",
        "# Menampilkan hasil untuk setiap citra\n",
        "for i, image_path in enumerate(image_paths, start=1):\n",
        "    ktp, dilate, output = process_image(image_path)\n",
        "\n",
        "    # Menampilkan citra hasil crop, hasil operasi morfologi, dan hasil deteksi objek dengan bounding box\n",
        "    f, axarr = plt.subplots(1, 3, figsize=(25, 8))\n",
        "    axarr[0].imshow(cv2.cvtColor(ktp, cv2.COLOR_BGR2RGB))\n",
        "    axarr[0].set_title(f\"Gambar Asli {i}\")\n",
        "    axarr[1].imshow(dilate, cmap='gray')\n",
        "    axarr[1].set_title(f\"Hasil erode {i}\")\n",
        "    axarr[2].imshow(cv2.cvtColor(output, cv2.COLOR_BGR2RGB))\n",
        "    axarr[2].set_title(f\"Hasil Deteksi {i}\")\n",
        "    plt.show()"
      ],
      "metadata": {
        "colab": {
          "base_uri": "https://localhost:8080/",
          "height": 366
        },
        "id": "RdI0DNMCBdWo",
        "outputId": "91807083-c0e0-474e-b995-7360322669dc"
      },
      "execution_count": 28,
      "outputs": [
        {
          "output_type": "error",
          "ename": "error",
          "evalue": "ignored",
          "traceback": [
            "\u001b[0;31m---------------------------------------------------------------------------\u001b[0m",
            "\u001b[0;31merror\u001b[0m                                     Traceback (most recent call last)",
            "\u001b[0;32m<ipython-input-28-5f1bea78ba6e>\u001b[0m in \u001b[0;36m<cell line: 107>\u001b[0;34m()\u001b[0m\n\u001b[1;32m    106\u001b[0m \u001b[0;31m# Menampilkan hasil untuk setiap citra\u001b[0m\u001b[0;34m\u001b[0m\u001b[0;34m\u001b[0m\u001b[0m\n\u001b[1;32m    107\u001b[0m \u001b[0;32mfor\u001b[0m \u001b[0mi\u001b[0m\u001b[0;34m,\u001b[0m \u001b[0mimage_path\u001b[0m \u001b[0;32min\u001b[0m \u001b[0menumerate\u001b[0m\u001b[0;34m(\u001b[0m\u001b[0mimage_paths\u001b[0m\u001b[0;34m,\u001b[0m \u001b[0mstart\u001b[0m\u001b[0;34m=\u001b[0m\u001b[0;36m1\u001b[0m\u001b[0;34m)\u001b[0m\u001b[0;34m:\u001b[0m\u001b[0;34m\u001b[0m\u001b[0;34m\u001b[0m\u001b[0m\n\u001b[0;32m--> 108\u001b[0;31m     \u001b[0mktp\u001b[0m\u001b[0;34m,\u001b[0m \u001b[0mdilate\u001b[0m\u001b[0;34m,\u001b[0m \u001b[0moutput\u001b[0m \u001b[0;34m=\u001b[0m \u001b[0mprocess_image\u001b[0m\u001b[0;34m(\u001b[0m\u001b[0mimage_path\u001b[0m\u001b[0;34m)\u001b[0m\u001b[0;34m\u001b[0m\u001b[0;34m\u001b[0m\u001b[0m\n\u001b[0m\u001b[1;32m    109\u001b[0m \u001b[0;34m\u001b[0m\u001b[0m\n\u001b[1;32m    110\u001b[0m     \u001b[0;31m# Menampilkan citra hasil crop, hasil operasi morfologi, dan hasil deteksi objek dengan bounding box\u001b[0m\u001b[0;34m\u001b[0m\u001b[0;34m\u001b[0m\u001b[0m\n",
            "\u001b[0;32m<ipython-input-28-5f1bea78ba6e>\u001b[0m in \u001b[0;36mprocess_image\u001b[0;34m(image_path)\u001b[0m\n\u001b[1;32m     64\u001b[0m \u001b[0;34m\u001b[0m\u001b[0m\n\u001b[1;32m     65\u001b[0m     \u001b[0;31m# Konversi citra KTP ke dalam citra keabuan (grayscale)\u001b[0m\u001b[0;34m\u001b[0m\u001b[0;34m\u001b[0m\u001b[0m\n\u001b[0;32m---> 66\u001b[0;31m     \u001b[0mktp_gray\u001b[0m \u001b[0;34m=\u001b[0m \u001b[0mcv2\u001b[0m\u001b[0;34m.\u001b[0m\u001b[0mcvtColor\u001b[0m\u001b[0;34m(\u001b[0m\u001b[0mktp_crop\u001b[0m\u001b[0;34m,\u001b[0m \u001b[0mcv2\u001b[0m\u001b[0;34m.\u001b[0m\u001b[0mCOLOR_BGR2GRAY\u001b[0m\u001b[0;34m)\u001b[0m\u001b[0;34m\u001b[0m\u001b[0;34m\u001b[0m\u001b[0m\n\u001b[0m\u001b[1;32m     67\u001b[0m \u001b[0;34m\u001b[0m\u001b[0m\n\u001b[1;32m     68\u001b[0m     \u001b[0;31m# Melakukan operasi Gaussian Blur pada citra keabuan KTP\u001b[0m\u001b[0;34m\u001b[0m\u001b[0;34m\u001b[0m\u001b[0m\n",
            "\u001b[0;31merror\u001b[0m: OpenCV(4.8.0) /io/opencv/modules/imgproc/src/color.cpp:182: error: (-215:Assertion failed) !_src.empty() in function 'cvtColor'\n"
          ]
        }
      ]
    },
    {
      "cell_type": "code",
      "source": [],
      "metadata": {
        "id": "qvuX3XnvEmYM"
      },
      "execution_count": null,
      "outputs": []
    }
  ]
}